{
 "cells": [
  {
   "cell_type": "markdown",
   "metadata": {
    "collapsed": true,
    "pycharm": {
     "is_executing": false
    }
   },
   "source": [
    "# 전국 신규 민간 아파트 분양가격 동향\n",
    "\n",
    "* 2015년 10월부터 2018년 7월까지\n",
    "* 주택분양보증을 받아 분양한 전체 민간 신규아파트 분양가격 동향\n",
    "* https://www.data.go.kr/dataset/3035522/fileData.do\n",
    "* 이 튜토리얼은 아파트 분양가에 대한 분석보다 파이썬 데이터 분석 방법을 배우는데 목적을 두고 있습니다.\n",
    "* 이 튜토리얼에서는 파이썬 데이터분석 도구인 Pandas를 활용합니다. Pandas에 대한 간략한 소개는 다음의 판다스 10분 완성 문서를 참고해 주시면 좋습니다.\n",
    "    * https://dataitgirls2.github.io/10minutes2pandas/\n",
    "* 또 시각화 도구로는 grammer of graphics 문법을 활용할 수 있는 plotnine을 사용합니다.\n",
    "* 이 튜토리얼은 데잇걸즈 2기와 파이콘 한국 2018에서 진행되기도 했습니다.\n",
    "* 다음의 경로에서 온라인 분석도구인 Colaboratory의 사본을 생성해서 직접 실행하는 실습을 진행해 보실 수도 있습니다.\n",
    "    * https://goo.gl/jSr7WU\n",
    "* [데이터 다운로드](https://goo.gl/oJydAv)\n",
    "\n",
    "## !중요\n",
    "\n",
    "### 버전과 한글 폰트\n",
    "* [한글폰트 사용하기](http://corazzon.github.io/matplotlib_font_setting)"
   ]
  },
  {
   "cell_type": "code",
   "execution_count": 1,
   "metadata": {},
   "outputs": [],
   "source": [
    "# 아래의 버전에 의존성이 있습니다. \n",
    "# 다음의 버전으로 설치해 주세요.\n",
    "# !pip install plotnine==0.5.0\n",
    "# !pip install pandas\n",
    "# !pip install folium==0.5.0\n",
    "# !pip install statsmodels -U\n",
    "# 시각화 도구 설치\n",
    "# !pip install plotnine\n",
    "# !pip install missingno"
   ]
  },
  {
   "cell_type": "markdown",
   "metadata": {},
   "source": [
    "## 아나콘다 사용시\n",
    "* [Plotnine 설치](https://anaconda.org/conda-forge/plotnine)\n",
    "* [missingno 설치](https://anaconda.org/conda-forge/missingno)"
   ]
  },
  {
   "cell_type": "code",
   "execution_count": 2,
   "metadata": {},
   "outputs": [
    {
     "name": "stdout",
     "output_type": "stream",
     "text": [
      "Name: plotnine\r\n",
      "Version: 0.5.0\r\n",
      "Summary: A grammar of graphics for python\r\n",
      "Home-page: https://github.com/has2k1/plotnine\r\n",
      "Author: None\r\n",
      "Author-email: None\r\n",
      "License: GPL-2\r\n",
      "Location: /Users/kmpak/repo/data-analysis-note/venv/lib/python3.7/site-packages\r\n",
      "Requires: patsy, numpy, statsmodels, scipy, matplotlib, pandas, mizani, descartes\r\n",
      "Required-by: \r\n"
     ]
    }
   ],
   "source": [
    "!pip show plotnine"
   ]
  },
  {
   "cell_type": "code",
   "execution_count": 3,
   "metadata": {},
   "outputs": [
    {
     "name": "stdout",
     "output_type": "stream",
     "text": [
      "Name: missingno\r\n",
      "Version: 0.4.2\r\n",
      "Summary: Missing data visualization module for Python.\r\n",
      "Home-page: https://github.com/ResidentMario/missingno\r\n",
      "Author: Aleksey Bilogur\r\n",
      "Author-email: aleksey.bilogur@gmail.com\r\n",
      "License: UNKNOWN\r\n",
      "Location: /Users/kmpak/repo/data-analysis-note/venv/lib/python3.7/site-packages\r\n",
      "Requires: matplotlib, seaborn, scipy, numpy\r\n",
      "Required-by: \r\n"
     ]
    }
   ],
   "source": [
    "!pip show missingno"
   ]
  },
  {
   "cell_type": "code",
   "execution_count": null,
   "metadata": {},
   "outputs": [],
   "source": []
  }
 ],
 "metadata": {
  "kernelspec": {
   "display_name": "Python 3",
   "language": "python",
   "name": "python3"
  },
  "language_info": {
   "codemirror_mode": {
    "name": "ipython",
    "version": 3
   },
   "file_extension": ".py",
   "mimetype": "text/x-python",
   "name": "python",
   "nbconvert_exporter": "python",
   "pygments_lexer": "ipython3",
   "version": "3.7.4"
  }
 },
 "nbformat": 4,
 "nbformat_minor": 1
}
