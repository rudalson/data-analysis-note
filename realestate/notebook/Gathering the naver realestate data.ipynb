{
 "cells": [
  {
   "cell_type": "code",
   "execution_count": 13,
   "metadata": {},
   "outputs": [],
   "source": [
    "import requests\n",
    "\n",
    "url = \"https://m.land.naver.com/cluster/ajax/complexList\"\n",
    "\n",
    "querystring = {\"itemId\":\"2122111331\",\"mapKey\":\"\",\"lgeo\":\"2122111331\",\"rletTpCd\":\"APT\",\"tradTpCd\":\"A1%3AB1\",\"z\":\"9\",\"lat\":\"37.5486782\",\"lon\":\"127.1507812\",\"btm\":\"37.5289563\",\"lft\":\"127.0639526\",\"top\":\"37.5683364\",\"rgt\":\"127.2376561\",\"cortarNo\":\"1174010100\",\"isOnlyIsale\":\"false\"}\n",
    "\n",
    "headers = {\n",
    "    'User-Agent': \"PostmanRuntime/7.19.0\",\n",
    "    'Accept': \"*/*\",\n",
    "    'Cache-Control': \"no-cache\",\n",
    "    'Postman-Token': \"79328ce1-52ea-4b4e-9ee8-8267e991b0b2,211f57bc-47ff-4e38-a1a7-d37ed2fd2a2a\",\n",
    "    'Host': \"m.land.naver.com\",\n",
    "    'Accept-Encoding': \"gzip, deflate\",\n",
    "    'Connection': \"keep-alive\",\n",
    "    'cache-control': \"no-cache\"\n",
    "    }\n",
    "\n",
    "response = requests.request(\"GET\", url, headers=headers, params=querystring)\n",
    "\n",
    "# print(response.text)"
   ]
  },
  {
   "cell_type": "code",
   "execution_count": 14,
   "metadata": {},
   "outputs": [],
   "source": [
    "import json\n",
    "data = json.loads(response.text)"
   ]
  },
  {
   "cell_type": "code",
   "execution_count": 16,
   "metadata": {},
   "outputs": [],
   "source": [
    "itmes = data[\"result\"]"
   ]
  },
  {
   "cell_type": "code",
   "execution_count": 17,
   "metadata": {},
   "outputs": [
    {
     "data": {
      "text/plain": [
       "{'cmctYm': '1983.12.',\n",
       " 'dealCnt': 42,\n",
       " 'dealPrcMax': \"16<em class='txt_unit'>억</em> 5,000\",\n",
       " 'dealPrcMin': \"6<em class='txt_unit'>억</em> 8,000\",\n",
       " 'genHsehCnt': 0,\n",
       " 'hscpNm': '삼익그린맨션2차',\n",
       " 'hscpNo': '1308',\n",
       " 'hscpTypeCd': 'A01',\n",
       " 'hscpTypeNm': '아파트',\n",
       " 'isaleNotifSeq': '0',\n",
       " 'isalePrcMax': '0',\n",
       " 'isalePrcMin': '0',\n",
       " 'isaleScheLabel': '',\n",
       " 'isaleScheLabelPre': '',\n",
       " 'leaseCnt': 96,\n",
       " 'leasePrcMax': \"4<em class='txt_unit'>억</em> 5,000\",\n",
       " 'leasePrcMin': \"1<em class='txt_unit'>억</em> 9,500\",\n",
       " 'maxSpc': '148.19',\n",
       " 'minSpc': '59.93',\n",
       " 'rentCnt': 16,\n",
       " 'repImgUrl': '/20170103_25/apt_realimage_1483412102125VbABD_JPEG/1a9b85080b264a9301e5d64b7bd22393.jpg',\n",
       " 'strmRentCnt': 0,\n",
       " 'totDongCnt': 18,\n",
       " 'totHsehCnt': 2400,\n",
       " 'totalAtclCnt': 154}"
      ]
     },
     "execution_count": 17,
     "metadata": {},
     "output_type": "execute_result"
    }
   ],
   "source": [
    "items[0]"
   ]
  },
  {
   "cell_type": "code",
   "execution_count": null,
   "metadata": {},
   "outputs": [],
   "source": []
  }
 ],
 "metadata": {
  "kernelspec": {
   "display_name": "Python 3",
   "language": "python",
   "name": "python3"
  },
  "language_info": {
   "codemirror_mode": {
    "name": "ipython",
    "version": 3
   },
   "file_extension": ".py",
   "mimetype": "text/x-python",
   "name": "python",
   "nbconvert_exporter": "python",
   "pygments_lexer": "ipython3",
   "version": "3.5.3"
  }
 },
 "nbformat": 4,
 "nbformat_minor": 1
}
